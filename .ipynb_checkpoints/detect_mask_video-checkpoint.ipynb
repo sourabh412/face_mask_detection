{
 "cells": [
  {
   "cell_type": "markdown",
   "metadata": {},
   "source": [
    "# Imports"
   ]
  },
  {
   "cell_type": "code",
   "execution_count": 6,
   "metadata": {},
   "outputs": [],
   "source": [
    "import tensorflow as tf\n",
    "from tensorflow import keras\n",
    "from keras.applications.mobilenet_v2 import preprocess_input\n",
    "from keras.utils import img_to_array\n",
    "from keras.models import load_model\n",
    "from imutils.video import VideoStream\n",
    "import numpy as np\n",
    "import imutils\n",
    "import time\n",
    "import cv2\n",
    "import os"
   ]
  },
  {
   "cell_type": "code",
   "execution_count": 7,
   "metadata": {},
   "outputs": [],
   "source": [
    "def detect_and_predict_mask(frame, faceNet, maskNet):\n",
    "    # grab the dimensions of the frame and construct blob\n",
    "\n",
    "    (h, w) = frame.shape[:2]\n",
    "    blob = cv2.dnn.blobFromImage(frame, 1.0, (224, 224), (104.0, 177.0, 123.0))\n",
    "\n",
    "    # pass the blob through the network and obtain the face detections\n",
    "    faceNet.setInput(blob)\n",
    "    detections = faceNet.forward()\n",
    "    print(detections.shape)\n",
    "\n",
    "    # initialize our list of faces, their corresponding locations,\n",
    "\t# and the list of predictions from our face mask network\n",
    "    faces = []\n",
    "    locs = []\n",
    "    preds = []\n",
    "\n",
    "    for i in range(0, detections.shape[2]):\n",
    "        confidence = detections[0, 0, i, 2]\n",
    "\n",
    "        if confidence > 0.5:\n",
    "            box = detections[0, 0, i, 3:7] * np.array([w, h, w, h])\n",
    "            (startX, startY, endX, endY) = box.astype(\"int\")\n",
    "\n",
    "            # ensure the bounding boxes fall within the dimensions of\n",
    "            # the frame\n",
    "            (startX, startY) = (max(0, startX), max(0, startY))\n",
    "            (endX, endY) = (min(w - 1, endX), min(h - 1, endY))\n",
    "        \n",
    "            face = frame[startY:endY, startX:endX]\n",
    "            face = cv2.cvtColor(face, cv2.COLOR_BGR2RGB)\n",
    "            face = cv2.resize(face, (224, 224))\n",
    "            face = img_to_array(face)\n",
    "            face = preprocess_input(face)\n",
    "\n",
    "            faces.append(face)\n",
    "            locs.append((startX, startY, endX, endY))\n",
    "\n",
    "    if len(faces) > 0:\n",
    "        faces = np.array(faces, dtype=\"float32\")\n",
    "        preds = maskNet.predict(faces, batch_size=32)\n",
    "\n",
    "    return (locs, preds)"
   ]
  },
  {
   "cell_type": "code",
   "execution_count": 8,
   "metadata": {},
   "outputs": [],
   "source": [
    "# load our serialized face detector model from disk\n",
    "prototxtPath = r\"face_detector\\\\deploy.prototxt\"\n",
    "weightsPath = r\"face_detector\\\\res10_300x300_ssd_iter_140000.caffemodel\"\n",
    "faceNet = cv2.dnn.readNet(prototxtPath, weightsPath)"
   ]
  },
  {
   "cell_type": "code",
   "execution_count": 9,
   "metadata": {},
   "outputs": [],
   "source": [
    "# load the face mask detector model from disk\n",
    "maskNet = load_model(\"mask_detector.model\")"
   ]
  },
  {
   "cell_type": "code",
   "execution_count": 10,
   "metadata": {},
   "outputs": [],
   "source": [
    "vs = VideoStream(src=0).start()"
   ]
  },
  {
   "cell_type": "code",
   "execution_count": 11,
   "metadata": {},
   "outputs": [
    {
     "name": "stdout",
     "output_type": "stream",
     "text": [
      "(1, 1, 200, 7)\n",
      "1/1 [==============================] - 1s 851ms/step\n",
      "(1, 1, 200, 7)\n",
      "1/1 [==============================] - 0s 48ms/step\n",
      "(1, 1, 200, 7)\n",
      "1/1 [==============================] - 0s 52ms/step\n",
      "(1, 1, 200, 7)\n",
      "1/1 [==============================] - 0s 47ms/step\n",
      "(1, 1, 200, 7)\n",
      "1/1 [==============================] - 0s 48ms/step\n",
      "(1, 1, 200, 7)\n",
      "1/1 [==============================] - 0s 62ms/step\n",
      "(1, 1, 200, 7)\n",
      "1/1 [==============================] - 0s 48ms/step\n",
      "(1, 1, 200, 7)\n",
      "1/1 [==============================] - 0s 41ms/step\n",
      "(1, 1, 200, 7)\n",
      "1/1 [==============================] - 0s 40ms/step\n",
      "(1, 1, 200, 7)\n",
      "1/1 [==============================] - 0s 43ms/step\n",
      "(1, 1, 200, 7)\n",
      "1/1 [==============================] - 0s 47ms/step\n",
      "(1, 1, 200, 7)\n",
      "1/1 [==============================] - 0s 44ms/step\n",
      "(1, 1, 200, 7)\n",
      "1/1 [==============================] - 0s 42ms/step\n",
      "(1, 1, 200, 7)\n",
      "1/1 [==============================] - 0s 42ms/step\n",
      "(1, 1, 200, 7)\n",
      "1/1 [==============================] - 0s 42ms/step\n",
      "(1, 1, 200, 7)\n",
      "1/1 [==============================] - 0s 43ms/step\n",
      "(1, 1, 200, 7)\n",
      "1/1 [==============================] - 0s 44ms/step\n",
      "(1, 1, 200, 7)\n",
      "1/1 [==============================] - 0s 43ms/step\n",
      "(1, 1, 200, 7)\n",
      "1/1 [==============================] - 0s 40ms/step\n",
      "(1, 1, 200, 7)\n",
      "1/1 [==============================] - 0s 44ms/step\n",
      "(1, 1, 200, 7)\n",
      "1/1 [==============================] - 0s 47ms/step\n",
      "(1, 1, 200, 7)\n",
      "1/1 [==============================] - 0s 41ms/step\n",
      "(1, 1, 200, 7)\n",
      "1/1 [==============================] - 0s 40ms/step\n",
      "(1, 1, 200, 7)\n",
      "1/1 [==============================] - 0s 43ms/step\n",
      "(1, 1, 200, 7)\n",
      "1/1 [==============================] - 0s 39ms/step\n",
      "(1, 1, 200, 7)\n",
      "1/1 [==============================] - 0s 41ms/step\n",
      "(1, 1, 200, 7)\n",
      "1/1 [==============================] - 0s 47ms/step\n",
      "(1, 1, 200, 7)\n",
      "1/1 [==============================] - 0s 41ms/step\n",
      "(1, 1, 200, 7)\n",
      "1/1 [==============================] - 0s 53ms/step\n",
      "(1, 1, 200, 7)\n",
      "1/1 [==============================] - 0s 42ms/step\n",
      "(1, 1, 200, 7)\n",
      "1/1 [==============================] - 0s 52ms/step\n",
      "(1, 1, 200, 7)\n",
      "1/1 [==============================] - 0s 53ms/step\n",
      "(1, 1, 200, 7)\n",
      "1/1 [==============================] - 0s 49ms/step\n",
      "(1, 1, 200, 7)\n",
      "1/1 [==============================] - 0s 52ms/step\n",
      "(1, 1, 200, 7)\n",
      "1/1 [==============================] - 0s 46ms/step\n",
      "(1, 1, 200, 7)\n",
      "1/1 [==============================] - 0s 41ms/step\n",
      "(1, 1, 200, 7)\n",
      "1/1 [==============================] - 0s 42ms/step\n",
      "(1, 1, 200, 7)\n",
      "1/1 [==============================] - 0s 54ms/step\n"
     ]
    },
    {
     "ename": "KeyboardInterrupt",
     "evalue": "",
     "output_type": "error",
     "traceback": [
      "\u001b[1;31m---------------------------------------------------------------------------\u001b[0m",
      "\u001b[1;31mKeyboardInterrupt\u001b[0m                         Traceback (most recent call last)",
      "\u001b[1;32mc:\\Users\\hirem\\Desktop\\py projects\\face_mask_detection\\detect_mask_video.ipynb Cell 7\u001b[0m in \u001b[0;36m<cell line: 4>\u001b[1;34m()\u001b[0m\n\u001b[0;32m      <a href='vscode-notebook-cell:/c%3A/Users/hirem/Desktop/py%20projects/face_mask_detection/detect_mask_video.ipynb#W6sZmlsZQ%3D%3D?line=4'>5</a>\u001b[0m frame \u001b[39m=\u001b[39m imutils\u001b[39m.\u001b[39mresize(frame, width\u001b[39m=\u001b[39m\u001b[39m400\u001b[39m)\n\u001b[0;32m      <a href='vscode-notebook-cell:/c%3A/Users/hirem/Desktop/py%20projects/face_mask_detection/detect_mask_video.ipynb#W6sZmlsZQ%3D%3D?line=6'>7</a>\u001b[0m \u001b[39m# detect faces in the frame and determine if they are wearing a\u001b[39;00m\n\u001b[0;32m      <a href='vscode-notebook-cell:/c%3A/Users/hirem/Desktop/py%20projects/face_mask_detection/detect_mask_video.ipynb#W6sZmlsZQ%3D%3D?line=7'>8</a>\u001b[0m \u001b[39m# face mask or not\u001b[39;00m\n\u001b[1;32m----> <a href='vscode-notebook-cell:/c%3A/Users/hirem/Desktop/py%20projects/face_mask_detection/detect_mask_video.ipynb#W6sZmlsZQ%3D%3D?line=8'>9</a>\u001b[0m (locs, preds) \u001b[39m=\u001b[39m detect_and_predict_mask(frame, faceNet, maskNet)\n\u001b[0;32m     <a href='vscode-notebook-cell:/c%3A/Users/hirem/Desktop/py%20projects/face_mask_detection/detect_mask_video.ipynb#W6sZmlsZQ%3D%3D?line=10'>11</a>\u001b[0m \u001b[39m# loop over the detected face locations and their corresponding\u001b[39;00m\n\u001b[0;32m     <a href='vscode-notebook-cell:/c%3A/Users/hirem/Desktop/py%20projects/face_mask_detection/detect_mask_video.ipynb#W6sZmlsZQ%3D%3D?line=11'>12</a>\u001b[0m \u001b[39m# locations\u001b[39;00m\n\u001b[0;32m     <a href='vscode-notebook-cell:/c%3A/Users/hirem/Desktop/py%20projects/face_mask_detection/detect_mask_video.ipynb#W6sZmlsZQ%3D%3D?line=12'>13</a>\u001b[0m \u001b[39mfor\u001b[39;00m (box, pred) \u001b[39min\u001b[39;00m \u001b[39mzip\u001b[39m(locs, preds):\n\u001b[0;32m     <a href='vscode-notebook-cell:/c%3A/Users/hirem/Desktop/py%20projects/face_mask_detection/detect_mask_video.ipynb#W6sZmlsZQ%3D%3D?line=13'>14</a>\u001b[0m \t\u001b[39m# unpack the bounding box and predictions\u001b[39;00m\n",
      "\u001b[1;32mc:\\Users\\hirem\\Desktop\\py projects\\face_mask_detection\\detect_mask_video.ipynb Cell 7\u001b[0m in \u001b[0;36mdetect_and_predict_mask\u001b[1;34m(frame, faceNet, maskNet)\u001b[0m\n\u001b[0;32m     <a href='vscode-notebook-cell:/c%3A/Users/hirem/Desktop/py%20projects/face_mask_detection/detect_mask_video.ipynb#W6sZmlsZQ%3D%3D?line=38'>39</a>\u001b[0m \u001b[39mif\u001b[39;00m \u001b[39mlen\u001b[39m(faces) \u001b[39m>\u001b[39m \u001b[39m0\u001b[39m:\n\u001b[0;32m     <a href='vscode-notebook-cell:/c%3A/Users/hirem/Desktop/py%20projects/face_mask_detection/detect_mask_video.ipynb#W6sZmlsZQ%3D%3D?line=39'>40</a>\u001b[0m     faces \u001b[39m=\u001b[39m np\u001b[39m.\u001b[39marray(faces, dtype\u001b[39m=\u001b[39m\u001b[39m\"\u001b[39m\u001b[39mfloat32\u001b[39m\u001b[39m\"\u001b[39m)\n\u001b[1;32m---> <a href='vscode-notebook-cell:/c%3A/Users/hirem/Desktop/py%20projects/face_mask_detection/detect_mask_video.ipynb#W6sZmlsZQ%3D%3D?line=40'>41</a>\u001b[0m     preds \u001b[39m=\u001b[39m maskNet\u001b[39m.\u001b[39;49mpredict(faces, batch_size\u001b[39m=\u001b[39;49m\u001b[39m32\u001b[39;49m)\n\u001b[0;32m     <a href='vscode-notebook-cell:/c%3A/Users/hirem/Desktop/py%20projects/face_mask_detection/detect_mask_video.ipynb#W6sZmlsZQ%3D%3D?line=42'>43</a>\u001b[0m \u001b[39mreturn\u001b[39;00m (locs, preds)\n",
      "File \u001b[1;32mc:\\Users\\hirem\\anaconda3\\envs\\ml\\lib\\site-packages\\keras\\utils\\traceback_utils.py:65\u001b[0m, in \u001b[0;36mfilter_traceback.<locals>.error_handler\u001b[1;34m(*args, **kwargs)\u001b[0m\n\u001b[0;32m     63\u001b[0m filtered_tb \u001b[39m=\u001b[39m \u001b[39mNone\u001b[39;00m\n\u001b[0;32m     64\u001b[0m \u001b[39mtry\u001b[39;00m:\n\u001b[1;32m---> 65\u001b[0m     \u001b[39mreturn\u001b[39;00m fn(\u001b[39m*\u001b[39margs, \u001b[39m*\u001b[39m\u001b[39m*\u001b[39mkwargs)\n\u001b[0;32m     66\u001b[0m \u001b[39mexcept\u001b[39;00m \u001b[39mException\u001b[39;00m \u001b[39mas\u001b[39;00m e:\n\u001b[0;32m     67\u001b[0m     filtered_tb \u001b[39m=\u001b[39m _process_traceback_frames(e\u001b[39m.\u001b[39m__traceback__)\n",
      "\u001b[1;31mKeyboardInterrupt\u001b[0m: "
     ]
    }
   ],
   "source": [
    "while True:\n",
    "\t# grab the frame from the threaded video stream and resize it\n",
    "\t# to have a maximum width of 400 pixels\n",
    "\tframe = vs.read()\n",
    "\tframe = imutils.resize(frame, width=400)\n",
    "\n",
    "\t# detect faces in the frame and determine if they are wearing a\n",
    "\t# face mask or not\n",
    "\t(locs, preds) = detect_and_predict_mask(frame, faceNet, maskNet)\n",
    "\n",
    "\t# loop over the detected face locations and their corresponding\n",
    "\t# locations\n",
    "\tfor (box, pred) in zip(locs, preds):\n",
    "\t\t# unpack the bounding box and predictions\n",
    "\t\t(startX, startY, endX, endY) = box\n",
    "\t\t(mask, withoutMask) = pred\n",
    "\n",
    "\t\t# determine the class label and color we'll use to draw\n",
    "\t\t# the bounding box and text\n",
    "\t\tlabel = \"Mask\" if mask > withoutMask else \"No Mask\"\n",
    "\t\tcolor = (0, 255, 0) if label == \"Mask\" else (0, 0, 255)\n",
    "\n",
    "\t\t# include the probability in the label\n",
    "\t\tlabel = \"{}: {:.2f}%\".format(label, max(mask, withoutMask) * 100)\n",
    "\n",
    "\t\t# display the label and bounding box rectangle on the output\n",
    "\t\t# frame\n",
    "\t\tcv2.putText(frame, label, (startX, startY - 10),\n",
    "\t\t\tcv2.FONT_HERSHEY_SIMPLEX, 0.45, color, 2)\n",
    "\t\tcv2.rectangle(frame, (startX, startY), (endX, endY), color, 2)\n",
    "\n",
    "\t# show the output frame\n",
    "\tcv2.imshow(\"Frame\", frame)\n",
    "\tkey = cv2.waitKey(1) & 0xFF\n",
    "\n",
    "\t# if the `q` key was pressed, break from the loop\n",
    "\tif key == ord(\"q\"):\n",
    "\t\tbreak"
   ]
  },
  {
   "cell_type": "code",
   "execution_count": 12,
   "metadata": {},
   "outputs": [],
   "source": [
    "# do a bit of cleanup\n",
    "cv2.destroyAllWindows()\n",
    "vs.stop()"
   ]
  }
 ],
 "metadata": {
  "kernelspec": {
   "display_name": "Python 3 (ipykernel)",
   "language": "python",
   "name": "python3"
  },
  "language_info": {
   "codemirror_mode": {
    "name": "ipython",
    "version": 3
   },
   "file_extension": ".py",
   "mimetype": "text/x-python",
   "name": "python",
   "nbconvert_exporter": "python",
   "pygments_lexer": "ipython3",
   "version": "3.9.15"
  },
  "vscode": {
   "interpreter": {
    "hash": "e7763ec04698835e589b22a34b2af336c9361a7d129a92c2b1358588ca8a8e1a"
   }
  }
 },
 "nbformat": 4,
 "nbformat_minor": 2
}
