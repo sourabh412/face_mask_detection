{
 "cells": [
  {
   "attachments": {},
   "cell_type": "markdown",
   "metadata": {},
   "source": [
    "# Imports"
   ]
  },
  {
   "cell_type": "code",
   "execution_count": 2,
   "metadata": {},
   "outputs": [],
   "source": [
    "import tensorflow as tf\n",
    "from tensorflow import keras\n",
    "from keras.preprocessing.image import ImageDataGenerator\n",
    "from keras.applications import MobileNetV2\n",
    "from keras.layers import AveragePooling2D, Dropout, Flatten, Dense, Input\n",
    "from keras.models import Model\n",
    "from keras.optimizers import Adam\n",
    "from keras.applications.mobilenet_v2 import preprocess_input\n",
    "from keras.utils import load_img, img_to_array, to_categorical\n",
    "from sklearn.preprocessing import LabelBinarizer\n",
    "from sklearn.model_selection import train_test_split\n",
    "from sklearn.metrics import classification_report\n",
    "import matplotlib.pyplot as plt\n",
    "import numpy as np\n",
    "import os\n",
    "from imutils import paths"
   ]
  },
  {
   "attachments": {},
   "cell_type": "markdown",
   "metadata": {},
   "source": [
    "# Preprocessing"
   ]
  },
  {
   "attachments": {},
   "cell_type": "markdown",
   "metadata": {},
   "source": [
    "initialize learning rate, epochs, batch size"
   ]
  },
  {
   "cell_type": "code",
   "execution_count": 4,
   "metadata": {},
   "outputs": [],
   "source": [
    "INIT_LR = 1e-4\n",
    "EPOCHS = 20\n",
    "BS = 32\n",
    "\n",
    "DIRECTORY = \"C:\\\\Users\\\\hirem\\\\Desktop\\\\py projects\\\\face_mask_detection\\\\dataset\"\n",
    "CATEGORIES = ['with_mask','without_mask']"
   ]
  },
  {
   "cell_type": "code",
   "execution_count": 5,
   "metadata": {},
   "outputs": [],
   "source": [
    "data = []\n",
    "labels = []\n",
    "\n",
    "for category in CATEGORIES:\n",
    "    path = os.path.join(DIRECTORY, category)\n",
    "    for img in os.listdir(path):\n",
    "        img_path = os.path.join(path, img)\n",
    "        image = load_img(img_path, target_size=(224, 224))\n",
    "        image = img_to_array(image)\n",
    "        image = preprocess_input(image)\n",
    "        \n",
    "        data.append(image)\n",
    "        labels.append(category)"
   ]
  },
  {
   "attachments": {},
   "cell_type": "markdown",
   "metadata": {},
   "source": [
    "one-hot encoding"
   ]
  },
  {
   "cell_type": "code",
   "execution_count": 6,
   "metadata": {},
   "outputs": [],
   "source": [
    "lb = LabelBinarizer()\n",
    "labels = lb.fit_transform(labels)\n",
    "labels = to_categorical(labels)"
   ]
  },
  {
   "cell_type": "code",
   "execution_count": 8,
   "metadata": {},
   "outputs": [],
   "source": [
    "data = np.array(data, dtype='float32')\n",
    "labels = np.array(labels)"
   ]
  },
  {
   "attachments": {},
   "cell_type": "markdown",
   "metadata": {},
   "source": [
    "train test split"
   ]
  },
  {
   "cell_type": "code",
   "execution_count": 9,
   "metadata": {},
   "outputs": [],
   "source": [
    "X_train, X_test, y_train, y_test = train_test_split(data, labels, test_size=0.20, stratify=labels, random_state=42)"
   ]
  },
  {
   "attachments": {},
   "cell_type": "markdown",
   "metadata": {},
   "source": [
    "augmentation"
   ]
  },
  {
   "cell_type": "code",
   "execution_count": 10,
   "metadata": {},
   "outputs": [],
   "source": [
    "aug = ImageDataGenerator(\n",
    "    rotation_range=20,\n",
    "    zoom_range=0.15,\n",
    "    width_shift_range=0.2,\n",
    "    height_shift_range=0.2,\n",
    "    shear_range=0.15,\n",
    "    horizontal_flip=True,\n",
    "    fill_mode='nearest'\n",
    ")"
   ]
  },
  {
   "attachments": {},
   "cell_type": "markdown",
   "metadata": {},
   "source": [
    "# Model"
   ]
  },
  {
   "attachments": {},
   "cell_type": "markdown",
   "metadata": {},
   "source": [
    "base model"
   ]
  },
  {
   "cell_type": "code",
   "execution_count": 11,
   "metadata": {},
   "outputs": [
    {
     "name": "stdout",
     "output_type": "stream",
     "text": [
      "WARNING:tensorflow:`input_shape` is undefined or non-square, or `rows` is not in [96, 128, 160, 192, 224]. Weights for input shape (224, 224) will be loaded as the default.\n",
      "Downloading data from https://storage.googleapis.com/tensorflow/keras-applications/mobilenet_v2/mobilenet_v2_weights_tf_dim_ordering_tf_kernels_1.0_224_no_top.h5\n",
      "9406464/9406464 [==============================] - 1s 0us/step\n"
     ]
    }
   ],
   "source": [
    "baseModel = MobileNetV2(\n",
    "    weights='imagenet',\n",
    "    include_top=False,\n",
    "    input_tensor=Input(shape=(224, 224, 3))\n",
    ")"
   ]
  },
  {
   "attachments": {},
   "cell_type": "markdown",
   "metadata": {},
   "source": [
    "head model"
   ]
  },
  {
   "cell_type": "code",
   "execution_count": 12,
   "metadata": {},
   "outputs": [],
   "source": [
    "headModel = baseModel.output\n",
    "headModel = AveragePooling2D(pool_size=(7,7))(headModel)\n",
    "headModel = Flatten(name='flatten')(headModel)\n",
    "headModel = Dense(128, activation='relu')(headModel)\n",
    "headModel = Dropout(0.5)(headModel)\n",
    "headModel = Dense(2, activation='softmax')(headModel)\n",
    "\n",
    "Model = Model(inputs = baseModel.input, outputs = headModel)"
   ]
  },
  {
   "attachments": {},
   "cell_type": "markdown",
   "metadata": {},
   "source": [
    "loop over all layers in the base model and freeze them so they will not be updated during the first training process"
   ]
  },
  {
   "cell_type": "code",
   "execution_count": 13,
   "metadata": {},
   "outputs": [],
   "source": [
    "for layer in baseModel.layers:\n",
    "    layer.trainable = False"
   ]
  },
  {
   "attachments": {},
   "cell_type": "markdown",
   "metadata": {},
   "source": [
    "compile"
   ]
  },
  {
   "cell_type": "code",
   "execution_count": 15,
   "metadata": {},
   "outputs": [],
   "source": [
    "opt = Adam(learning_rate=INIT_LR, decay=INIT_LR / EPOCHS)\n",
    "Model.compile(\n",
    "    loss=\"binary_crossentropy\",\n",
    "    optimizer=opt,\n",
    "\tmetrics=[\"accuracy\"]\n",
    ")"
   ]
  },
  {
   "attachments": {},
   "cell_type": "markdown",
   "metadata": {},
   "source": [
    "train"
   ]
  },
  {
   "cell_type": "code",
   "execution_count": 16,
   "metadata": {},
   "outputs": [
    {
     "name": "stdout",
     "output_type": "stream",
     "text": [
      "Epoch 1/20\n",
      "34/34 [==============================] - 30s 790ms/step - loss: 0.5233 - accuracy: 0.8006 - val_loss: 0.2158 - val_accuracy: 0.9601\n",
      "Epoch 2/20\n",
      "34/34 [==============================] - 25s 732ms/step - loss: 0.1934 - accuracy: 0.9785 - val_loss: 0.1012 - val_accuracy: 0.9855\n",
      "Epoch 3/20\n",
      "34/34 [==============================] - 29s 863ms/step - loss: 0.1154 - accuracy: 0.9860 - val_loss: 0.0674 - val_accuracy: 0.9891\n",
      "Epoch 4/20\n",
      "34/34 [==============================] - 29s 844ms/step - loss: 0.0771 - accuracy: 0.9906 - val_loss: 0.0510 - val_accuracy: 0.9891\n",
      "Epoch 5/20\n",
      "34/34 [==============================] - 28s 838ms/step - loss: 0.0595 - accuracy: 0.9906 - val_loss: 0.0400 - val_accuracy: 0.9891\n",
      "Epoch 6/20\n",
      "34/34 [==============================] - 27s 791ms/step - loss: 0.0561 - accuracy: 0.9869 - val_loss: 0.0331 - val_accuracy: 0.9891\n",
      "Epoch 7/20\n",
      "34/34 [==============================] - 30s 890ms/step - loss: 0.0423 - accuracy: 0.9925 - val_loss: 0.0278 - val_accuracy: 0.9928\n",
      "Epoch 8/20\n",
      "34/34 [==============================] - 28s 823ms/step - loss: 0.0336 - accuracy: 0.9934 - val_loss: 0.0235 - val_accuracy: 0.9928\n",
      "Epoch 9/20\n",
      "34/34 [==============================] - 29s 850ms/step - loss: 0.0290 - accuracy: 0.9953 - val_loss: 0.0204 - val_accuracy: 1.0000\n",
      "Epoch 10/20\n",
      "34/34 [==============================] - 28s 820ms/step - loss: 0.0328 - accuracy: 0.9925 - val_loss: 0.0185 - val_accuracy: 1.0000\n",
      "Epoch 11/20\n",
      "34/34 [==============================] - 29s 874ms/step - loss: 0.0257 - accuracy: 0.9972 - val_loss: 0.0185 - val_accuracy: 0.9928\n",
      "Epoch 12/20\n",
      "34/34 [==============================] - 27s 799ms/step - loss: 0.0304 - accuracy: 0.9934 - val_loss: 0.0152 - val_accuracy: 1.0000\n",
      "Epoch 13/20\n",
      "34/34 [==============================] - 31s 894ms/step - loss: 0.0238 - accuracy: 0.9953 - val_loss: 0.0142 - val_accuracy: 1.0000\n",
      "Epoch 14/20\n",
      "34/34 [==============================] - 28s 828ms/step - loss: 0.0211 - accuracy: 0.9953 - val_loss: 0.0130 - val_accuracy: 1.0000\n",
      "Epoch 15/20\n",
      "34/34 [==============================] - 28s 830ms/step - loss: 0.0233 - accuracy: 0.9925 - val_loss: 0.0129 - val_accuracy: 0.9964\n",
      "Epoch 16/20\n",
      "34/34 [==============================] - 29s 833ms/step - loss: 0.0178 - accuracy: 0.9963 - val_loss: 0.0118 - val_accuracy: 1.0000\n",
      "Epoch 17/20\n",
      "34/34 [==============================] - 27s 786ms/step - loss: 0.0169 - accuracy: 0.9963 - val_loss: 0.0116 - val_accuracy: 1.0000\n",
      "Epoch 18/20\n",
      "34/34 [==============================] - 26s 765ms/step - loss: 0.0211 - accuracy: 0.9944 - val_loss: 0.0107 - val_accuracy: 1.0000\n",
      "Epoch 19/20\n",
      "34/34 [==============================] - 27s 802ms/step - loss: 0.0134 - accuracy: 0.9991 - val_loss: 0.0104 - val_accuracy: 1.0000\n",
      "Epoch 20/20\n",
      "34/34 [==============================] - 29s 842ms/step - loss: 0.0171 - accuracy: 0.9972 - val_loss: 0.0102 - val_accuracy: 0.9964\n"
     ]
    }
   ],
   "source": [
    "H = Model.fit(\n",
    "\taug.flow(X_train, y_train, batch_size=BS),\n",
    "\tsteps_per_epoch=len(X_train) // BS,\n",
    "\tvalidation_data=(X_test, y_test),\n",
    "\tvalidation_steps=len(X_test) // BS,\n",
    "\tepochs=EPOCHS\n",
    ")"
   ]
  },
  {
   "attachments": {},
   "cell_type": "markdown",
   "metadata": {},
   "source": [
    "# Evaluation"
   ]
  },
  {
   "attachments": {},
   "cell_type": "markdown",
   "metadata": {},
   "source": [
    "predictions"
   ]
  },
  {
   "cell_type": "code",
   "execution_count": 17,
   "metadata": {},
   "outputs": [
    {
     "name": "stdout",
     "output_type": "stream",
     "text": [
      "9/9 [==============================] - 5s 507ms/step\n"
     ]
    }
   ],
   "source": [
    "pred = Model.predict(X_test, batch_size=BS)\n",
    "pred = np.argmax(pred, axis=1)"
   ]
  },
  {
   "cell_type": "code",
   "execution_count": 18,
   "metadata": {},
   "outputs": [
    {
     "name": "stdout",
     "output_type": "stream",
     "text": [
      "              precision    recall  f1-score   support\n",
      "\n",
      "   with_mask       1.00      0.99      1.00       138\n",
      "without_mask       0.99      1.00      1.00       138\n",
      "\n",
      "    accuracy                           1.00       276\n",
      "   macro avg       1.00      1.00      1.00       276\n",
      "weighted avg       1.00      1.00      1.00       276\n",
      "\n"
     ]
    }
   ],
   "source": [
    "print(classification_report(y_test.argmax(axis=1), pred, target_names=lb.classes_))"
   ]
  },
  {
   "attachments": {},
   "cell_type": "markdown",
   "metadata": {},
   "source": [
    "# Save model"
   ]
  },
  {
   "cell_type": "code",
   "execution_count": 19,
   "metadata": {},
   "outputs": [],
   "source": [
    "Model.save(\"mask_detector.model\", save_format=\"h5\")"
   ]
  },
  {
   "attachments": {},
   "cell_type": "markdown",
   "metadata": {},
   "source": [
    "plot training loass and accuracy"
   ]
  },
  {
   "cell_type": "code",
   "execution_count": 21,
   "metadata": {},
   "outputs": [
    {
     "data": {
      "text/plain": [
       "<matplotlib.legend.Legend at 0x195c7e2b760>"
      ]
     },
     "execution_count": 21,
     "metadata": {},
     "output_type": "execute_result"
    },
    {
     "data": {
      "image/png": "[encoded data removed]",
      "text/plain": [
       "<Figure size 864x432 with 1 Axes>"
      ]
     },
     "metadata": {},
     "output_type": "display_data"
    }
   ],
   "source": [
    "N = EPOCHS\n",
    "plt.style.use(\"ggplot\")\n",
    "plt.figure(figsize=(12,6))\n",
    "plt.plot(np.arange(0, N), H.history['loss'], label=\"train_loss\")\n",
    "plt.plot(np.arange(0, N), H.history['val_loss'], label=\"val_loss\")\n",
    "plt.plot(np.arange(0, N), H.history['accuracy'], label=\"train_acc\")\n",
    "plt.plot(np.arange(0, N), H.history['val_accuracy'], label=\"val_acc\")\n",
    "plt.title(\"Training loss and Accuracy\")\n",
    "plt.xlabel(\"Epoch #\")\n",
    "plt.ylabel(\"Loss/Accuracy\")\n",
    "plt.legend(loc=\"lower left\")"
   ]
  },
  {
   "cell_type": "code",
   "execution_count": null,
   "metadata": {},
   "outputs": [],
   "source": []
  }
 ],
 "metadata": {
  "kernelspec": {
   "display_name": "ml",
   "language": "python",
   "name": "python3"
  },
  "language_info": {
   "codemirror_mode": {
    "name": "ipython",
    "version": 3
   },
   "file_extension": ".py",
   "mimetype": "text/x-python",
   "name": "python",
   "nbconvert_exporter": "python",
   "pygments_lexer": "ipython3",
   "version": "3.9.15"
  },
  "orig_nbformat": 4,
  "vscode": {
   "interpreter": {
    "hash": "e7763ec04698835e589b22a34b2af336c9361a7d129a92c2b1358588ca8a8e1a"
   }
  }
 },
 "nbformat": 4,
 "nbformat_minor": 2
}
